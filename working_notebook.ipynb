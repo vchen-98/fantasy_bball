{
 "cells": [
  {
   "cell_type": "code",
   "execution_count": 1,
   "id": "03243d94",
   "metadata": {},
   "outputs": [],
   "source": [
    "# https://medium.com/@HeeebsInc/using-machine-learning-to-predict-daily-fantasy-basketball-scores-part-i-811de3c54a98"
   ]
  },
  {
   "cell_type": "code",
   "execution_count": 1,
   "id": "49781f8b",
   "metadata": {},
   "outputs": [],
   "source": [
    "# needed libraries\n",
    "from urllib.request import urlopen\n",
    "from bs4 import BeautifulSoup\n",
    "import pandas as pd\n",
    "\n",
    "# URL to scrape\n",
    "url = \"https://www.basketball-reference.com/playoffs/\"\n",
    "\n",
    "# collect HTML data\n",
    "html = urlopen(url)\n",
    "        \n",
    "# create beautiful soup object from HTML\n",
    "soup = BeautifulSoup(html, features=\"lxml\")\n",
    "\n",
    "# use getText()to extract the headers into a list\n",
    "headers = [th.getText() for th in soup.findAll('tr', limit=2)[1].findAll('th')]\n",
    "\n",
    "# get rows from table\n",
    "rows = soup.findAll('tr')[2:]\n",
    "rows_data = [[td.getText() for td in rows[i].findAll('td')]\n",
    "                    for i in range(len(rows))]\n",
    "\n",
    "# if you print row_data here you'll see an empty row\n",
    "# so, remove the empty row\n",
    "rows_data.pop(20)\n",
    "# for simplicity subset the data for only 39 seasons\n",
    "rows_data = rows_data[0:38]\n",
    "\n",
    "# we're missing a column for years\n",
    "# add the years into rows_data\n",
    "last_year = 2020\n",
    "for i in range(0, len(rows_data)):\n",
    "    rows_data[i].insert(0, last_year)\n",
    "    last_year -=1\n",
    "    \n",
    "# create the dataframe\n",
    "nba_finals = pd.DataFrame(rows_data, columns = headers)\n",
    "# export dataframe to a CSV \n",
    "nba_finals.to_csv(\"nba_finals_history.csv\", index=False)"
   ]
  },
  {
   "cell_type": "code",
   "execution_count": null,
   "id": "ac855ea5",
   "metadata": {},
   "outputs": [],
   "source": []
  }
 ],
 "metadata": {
  "kernelspec": {
   "display_name": "Python 3 (ipykernel)",
   "language": "python",
   "name": "python3"
  },
  "language_info": {
   "codemirror_mode": {
    "name": "ipython",
    "version": 3
   },
   "file_extension": ".py",
   "mimetype": "text/x-python",
   "name": "python",
   "nbconvert_exporter": "python",
   "pygments_lexer": "ipython3",
   "version": "3.8.5"
  }
 },
 "nbformat": 4,
 "nbformat_minor": 5
}
